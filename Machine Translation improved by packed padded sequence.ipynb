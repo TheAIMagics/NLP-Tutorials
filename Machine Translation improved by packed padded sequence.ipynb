{
 "cells": [
  {
   "cell_type": "markdown",
   "id": "1ceb19bc",
   "metadata": {},
   "source": [
    "### Objective :  \n",
    "- We will learn to implement a sequence to sequence model which can tranlate German(encoder) to English(decoder) Language.\n",
    "\n",
    "### Dataset Used\n",
    "- The dataset we'll be using is the Multi30k dataset. This is a dataset with ~30,000 parallel English, German and French sentences, each with ~12 words per sentence.\n",
    "\n",
    "### Packed Padded Sequence:\n",
    "- It is used when working with variable length data such as sentences of different length.\n",
    "- They allow us to process sequences of different length in batches efficiently without wasting memory or computation on padded parts of sequences."
   ]
  },
  {
   "cell_type": "code",
   "execution_count": 1,
   "id": "42ba3719",
   "metadata": {},
   "outputs": [
    {
     "name": "stderr",
     "output_type": "stream",
     "text": [
      "E:\\sequence\\sequence\\lib\\site-packages\\tqdm\\auto.py:21: TqdmWarning: IProgress not found. Please update jupyter and ipywidgets. See https://ipywidgets.readthedocs.io/en/stable/user_install.html\n",
      "  from .autonotebook import tqdm as notebook_tqdm\n"
     ]
    }
   ],
   "source": [
    "import spacy\n",
    "import time\n",
    "import random\n",
    "import math\n",
    "import torch\n",
    "import numpy as np\n",
    "import torch.nn as nn\n",
    "import torch.optim as optim\n",
    "import torch.nn.functional as F\n",
    "\n",
    "from torchtext.legacy.datasets import Multi30k\n",
    "from torchtext.legacy.data import Field, BucketIterator"
   ]
  },
  {
   "cell_type": "markdown",
   "id": "4861789e",
   "metadata": {},
   "source": [
    "#### Declare Random Seed for constant results"
   ]
  },
  {
   "cell_type": "code",
   "execution_count": 2,
   "id": "75015671",
   "metadata": {},
   "outputs": [],
   "source": [
    "SEED = 1234\n",
    "\n",
    "random.seed(SEED)\n",
    "np.random.seed(SEED)\n",
    "torch.manual_seed(SEED)\n",
    "torch.cuda.manual_seed(SEED)\n",
    "torch.backends.cudnn.deterministic = True"
   ]
  },
  {
   "cell_type": "markdown",
   "id": "da4b1ebe",
   "metadata": {},
   "source": [
    "#### Decalare German and English Tokenizers"
   ]
  },
  {
   "cell_type": "code",
   "execution_count": 3,
   "id": "ef08bfbb",
   "metadata": {},
   "outputs": [],
   "source": [
    "german_tokenizer = spacy.load(\"de_core_news_sm\")\n",
    "english_tokenizer = spacy.load(\"en_core_web_sm\")"
   ]
  },
  {
   "cell_type": "code",
   "execution_count": 4,
   "id": "cd1e1ba8",
   "metadata": {},
   "outputs": [],
   "source": [
    "def tokenize_german(text):\n",
    "    return [token.text for token in german_tokenizer.tokenizer(text)]\n",
    "def tokenize_english(text):\n",
    "    return [token.text for token in english_tokenizer.tokenizer(text)]"
   ]
  },
  {
   "cell_type": "markdown",
   "id": "aa7a1394",
   "metadata": {},
   "source": [
    "#### AS we are using packed_padded_sequence, hence we need to tell Pytorch what is length of actual sentence. Which we can do using arg `include_lengths` of Field "
   ]
  },
  {
   "cell_type": "code",
   "execution_count": 5,
   "id": "f55a6d19",
   "metadata": {},
   "outputs": [],
   "source": [
    "SRC = Field(tokenize=tokenize_german,init_token='<sos>',eos_token='<sos>',lower=True,include_lengths=True)\n",
    "TRG = Field(tokenize=tokenize_english, init_token='<sos>',eos_token='<sos>',lower=True)"
   ]
  },
  {
   "cell_type": "code",
   "execution_count": 6,
   "id": "3162bb19",
   "metadata": {},
   "outputs": [],
   "source": [
    "train_data, valid_data, test_data = Multi30k.splits(exts = ('.de', '.en'), fields = (SRC, TRG))"
   ]
  },
  {
   "cell_type": "code",
   "execution_count": 7,
   "id": "87684be8",
   "metadata": {},
   "outputs": [],
   "source": [
    "SRC.build_vocab(train_data, min_freq = 2)\n",
    "TRG.build_vocab(train_data, min_freq = 2)"
   ]
  },
  {
   "cell_type": "code",
   "execution_count": 8,
   "id": "0bb8e177",
   "metadata": {},
   "outputs": [],
   "source": [
    "BATCH_SIZE = 128\n",
    "\n",
    "device = torch.device('cuda' if torch.cuda.is_available() else 'cpu')"
   ]
  },
  {
   "cell_type": "markdown",
   "id": "32bed713",
   "metadata": {},
   "source": [
    "#### Creating iterators"
   ]
  },
  {
   "cell_type": "code",
   "execution_count": 9,
   "id": "8f7e24f6",
   "metadata": {},
   "outputs": [],
   "source": [
    "train_iterator, valid_iterator, test_iterator = BucketIterator.splits(\n",
    "    (train_data, valid_data, test_data), \n",
    "     batch_size = BATCH_SIZE,\n",
    "     sort_within_batch = True,\n",
    "     sort_key = lambda x : len(x.src),\n",
    "     device = device)"
   ]
  },
  {
   "cell_type": "code",
   "execution_count": 10,
   "id": "5bd130e4",
   "metadata": {},
   "outputs": [],
   "source": [
    "class Encoder(nn.Module):\n",
    "    def __init__(self, input_dim, emb_dim, enc_hid_dim, dec_hid_dim, dropout):\n",
    "        super().__init__()\n",
    "        self.embedding = nn.Embedding(input_dim, emb_dim)\n",
    "        self.rnn = nn.GRU(emb_dim, enc_hid_dim, bidirectional = True)\n",
    "        self.fc= nn.Linear(enc_hid_dim*2, dec_hid_dim)\n",
    "        self.dropout = nn.Dropout(dropout)\n",
    "        \n",
    "    def forward(self, src, src_len):\n",
    "        #src =[src_len, batch_size]\n",
    "        embedded = self.dropout(self.embedding(src))\n",
    "        # embedded = [src_len, batch_size, emb_dim]\n",
    "        packed_embedded = nn.utils.rnn.pack_padded_sequence(embedded, src_len.to('cpu'))\n",
    "        packed_outputs, hidden = self.rnn(packed_embedded)\n",
    "        # outputs = [src_len, batch_size, hid_dim* num_directions]\n",
    "        # hidden = [n_layers*num_directions , batch_size, hid dim]\n",
    "        outputs, _ = nn.utils.rnn.pad_packed_sequence(packed_outputs)\n",
    "        hidden = torch.tanh(self.fc(torch.cat((hidden[-2,:,:],hidden[-1,:,:]),dim=1 )))\n",
    "        #outputs = [src_len, batch_size, enc_hid_dim*2]\n",
    "        #hidden = [batch_size, dec_hid_dim]\n",
    "        return outputs,hidden"
   ]
  },
  {
   "cell_type": "markdown",
   "id": "d057911e",
   "metadata": {},
   "source": [
    "#### nn.Linear Layer = Takes input feature vectors and applies a matrix multiplication operation with a weight matrix to produce a vector of output features. The weight matrix contains learning parameters that are adjusted during training process to optimize performance of nn. \n",
    "- y = Wx+b , The bias vector is added to output of matrix multiplication to shift activation function to left or right\n",
    "\n",
    "#### F.softmax = Takes vector of real numbers as input and converts them to vector of probabilities. Where each element of output vector represents the probability of the corresponding input element belonging to a particular class"
   ]
  },
  {
   "cell_type": "code",
   "execution_count": 11,
   "id": "63fbad5f",
   "metadata": {},
   "outputs": [
    {
     "name": "stdout",
     "output_type": "stream",
     "text": [
      "tensor([[-0.1117, -0.4966,  0.1631, -0.8817,  0.2891],\n",
      "        [ 0.4899, -0.3853, -0.7120,  0.6369, -0.7141],\n",
      "        [-1.0831, -0.5547, -1.3248,  0.6970, -0.6631],\n",
      "        [ 1.2158, -2.5273,  1.4778, -0.1696, -0.9919]])\n",
      "tensor([[0.2019, 0.1374, 0.2658, 0.0935, 0.3015],\n",
      "        [0.3149, 0.1312, 0.0947, 0.3648, 0.0945],\n",
      "        [0.0915, 0.1551, 0.0718, 0.5424, 0.1392],\n",
      "        [0.3727, 0.0088, 0.4843, 0.0932, 0.0410]])\n"
     ]
    }
   ],
   "source": [
    "import torch\n",
    "\n",
    "# define input tensor\n",
    "x = torch.randn(4, 5)\n",
    "\n",
    "# compute softmax over the second dimension\n",
    "softmax_x = torch.nn.functional.softmax(x, dim=1)\n",
    "\n",
    "# print results\n",
    "print(x)\n",
    "print(softmax_x)"
   ]
  },
  {
   "cell_type": "code",
   "execution_count": 12,
   "id": "5e63e3d0",
   "metadata": {},
   "outputs": [],
   "source": [
    "class Attention(nn.Module):\n",
    "    def __init__(self, enc_hid_dim, dec_hid_dim):\n",
    "        super().__init__()\n",
    "        self.attention = nn.Linear((enc_hid_dim*2)+dec_hid_dim, dec_hid_dim)\n",
    "        self.v = nn.Linear(dec_hid_dim, 1, bias=False)\n",
    "        \n",
    "    def forward(self, hidden, enc_outputs, mask):\n",
    "        #enc_outputs = [src_len, batch_size, enc_hid_dim*2]\n",
    "        # hidden = [ batch_size, dec_hid_dim]\n",
    "        batch_size = enc_outputs.shape[1]\n",
    "        src_len = enc_outputs.shape[0]\n",
    "        hidden = hidden.unsqueeze(1).repeat(1, src_len, 1)\n",
    "        #hidden= [batch_size,src_len, dec_hid_dim]\n",
    "        enc_outputs = enc_outputs.permute(1,0,2)\n",
    "        #enc_outputs = [batch_size, src_len, enc_hid_dim*2]\n",
    "        energy = torch.tanh(self.attention(torch.cat((hidden,enc_outputs),dim=2)))\n",
    "        # enrgy =  [batch_size,src_len, dec_hid_dim\n",
    "        attention = self.v(energy).squeeze(2)\n",
    "        #attn = [batch size, src len]\n",
    "        attention = attention.masked_fill(mask==0, -1e10)\n",
    "        return F.softmax(attention,dim=1)"
   ]
  },
  {
   "cell_type": "code",
   "execution_count": 13,
   "id": "7cd263d2",
   "metadata": {},
   "outputs": [],
   "source": [
    "class Decoder(nn.Module):\n",
    "    def __init__(self, output_dim, emb_dim, enc_hid_dim, dec_hid_dim, dropout, attention):\n",
    "        super().__init__()\n",
    "        self.output_dim = output_dim\n",
    "        self.attention = attention\n",
    "        self.embedding = nn.Embedding(output_dim, emb_dim)\n",
    "        self.rnn = nn.GRU((enc_hid_dim*2)+emb_dim, dec_hid_dim)\n",
    "        self.fc = nn.Linear((enc_hid_dim*2)+dec_hid_dim+emb_dim,output_dim)\n",
    "        self.dropout = nn.Dropout(dropout)\n",
    "        \n",
    "    def forward(self, inp, hidden, enc_outputs,mask):\n",
    "        #inp = [batch_size]\n",
    "        #hidden = [batch_size,dec_hid_dim ]\n",
    "        #enc_outputs = [src_len, batch_size,enc_hid_dim*2]\n",
    "        inp = inp.unsqueeze(0)\n",
    "        #inp = [1,batch_size]\n",
    "        embedded = self.dropout(self.embedding(inp))\n",
    "        #embedded =[1,batch_size,emb_dim]\n",
    "        a = self.attention(hidden, enc_outputs,mask)\n",
    "        #a = [batch_size, src_len]\n",
    "        a = a.unsqueeze(1)\n",
    "        #a = [batch_size,1, src_len]\n",
    "        enc_outputs = enc_outputs.permute(1,0,2)\n",
    "        #enc_outputs = [batch_size,src_len,enc_hid_dim*2]\n",
    "        weighted= torch.bmm(a,enc_outputs)\n",
    "        #weighted = [batch_size,1,enc_hid_dim*2]\n",
    "        weighted = weighted.permute(1, 0, 2)\n",
    "        #weighted = [1,batch_size,enc_hid_dim*2]\n",
    "        rnn_input = torch.cat((embedded, weighted), dim=2)\n",
    "        #rnn_input = [1, batch_size,(enc_hid_dim*2)+emb_dim]\n",
    "        output, hidden = self.rnn(rnn_input, hidden.unsqueeze(0))\n",
    "        #output = [src_len,batch_size, dec_hid_dim*n_directions]\n",
    "        #hidden = [n_layers* n_directions, batch_size, dec_hid_dim]\n",
    "        # As src_len, n_layers &  n_directions = 1\n",
    "        #output = [1,batch_size, dec_hid_dim]\n",
    "        #hidden = [1,batch_size, dec_hid_dim]\n",
    "        assert (output==hidden).all()\n",
    "        embedded = embedded.squeeze(0)\n",
    "        output = output.squeeze(0)\n",
    "        weighted = weighted.squeeze(0)\n",
    "        pred = self.fc(torch.cat((output,weighted,embedded), dim=1))\n",
    "        #pred = [batch_size,output_dim]\n",
    "        return pred, hidden.squeeze(0),a.squeeze(1)"
   ]
  },
  {
   "cell_type": "code",
   "execution_count": 14,
   "id": "ce1b2892",
   "metadata": {},
   "outputs": [],
   "source": [
    "class seq2seq(nn.Module):\n",
    "    def __init__(self,encoder, decoder,src_pad_idx, device):\n",
    "        super().__init__()\n",
    "        self.encoder = encoder\n",
    "        self.decoder = decoder\n",
    "        self.src_pad_idx = src_pad_idx\n",
    "        self.device = device\n",
    "    \n",
    "    def create_mask(self, src):\n",
    "        mask = (src!= self.src_pad_idx).permute(1,0)\n",
    "        return mask\n",
    "    \n",
    "    def forward(self, src, src_len, trg, teacher_forcing_ratio = 0.5):\n",
    "        #src = [src_len,batch_size ]\n",
    "        #src_len = [batch_size]\n",
    "        #trg = [trg_len,batch_size]\n",
    "        batch_size = src.shape[1]\n",
    "        trg_len = trg.shape[0]\n",
    "        trg_vocab_size = self.decoder.output_dim\n",
    "        #tensor to store decoder outputs\n",
    "        outputs = torch.zeros(trg_len, batch_size, trg_vocab_size).to(self.device)\n",
    "        encoder_outputs, hidden = self.encoder(src, src_len)\n",
    "        inp = trg[0,:]\n",
    "        mask = self.create_mask(src)\n",
    "\n",
    "        #mask = [batch size, src len]\n",
    "        for t in range(1, trg_len):\n",
    "            \n",
    "            #insert input token embedding, previous hidden state, all encoder hidden states \n",
    "            #  and mask\n",
    "            #receive output tensor (predictions) and new hidden state\n",
    "            output, hidden, _ = self.decoder(inp, hidden, encoder_outputs, mask)\n",
    "            \n",
    "            #place predictions in a tensor holding predictions for each token\n",
    "            outputs[t] = output\n",
    "            \n",
    "            #decide if we are going to use teacher forcing or not\n",
    "            teacher_force = random.random() < teacher_forcing_ratio\n",
    "            \n",
    "            #get the highest predicted token from our predictions\n",
    "            top1 = output.argmax(1) \n",
    "            \n",
    "            #if teacher forcing, use actual next token as next input\n",
    "            #if not, use predicted token\n",
    "            inp = trg[t] if teacher_force else top1\n",
    "            \n",
    "        return outputs"
   ]
  },
  {
   "cell_type": "code",
   "execution_count": 15,
   "id": "c3833a7d",
   "metadata": {},
   "outputs": [],
   "source": [
    "INPUT_DIM = len(SRC.vocab)\n",
    "OUTPUT_DIM = len(TRG.vocab)\n",
    "ENC_EMB_DIM = 256\n",
    "DEC_EMB_DIM = 256\n",
    "ENC_HID_DIM = 512\n",
    "DEC_HID_DIM = 512\n",
    "ENC_DROPOUT = 0.5\n",
    "DEC_DROPOUT = 0.5\n",
    "SRC_PAD_IDX = SRC.vocab.stoi[SRC.pad_token]\n",
    "\n",
    "attn = Attention(ENC_HID_DIM, DEC_HID_DIM)\n",
    "enc = Encoder(INPUT_DIM, ENC_EMB_DIM, ENC_HID_DIM, DEC_HID_DIM, ENC_DROPOUT)\n",
    "dec = Decoder(OUTPUT_DIM, DEC_EMB_DIM, ENC_HID_DIM, DEC_HID_DIM, DEC_DROPOUT, attn)\n",
    "\n",
    "model = seq2seq(enc, dec, SRC_PAD_IDX, device).to(device)"
   ]
  },
  {
   "cell_type": "code",
   "execution_count": 16,
   "id": "9fe1eec8",
   "metadata": {},
   "outputs": [
    {
     "data": {
      "text/plain": [
       "seq2seq(\n",
       "  (encoder): Encoder(\n",
       "    (embedding): Embedding(7852, 256)\n",
       "    (rnn): GRU(256, 512, bidirectional=True)\n",
       "    (fc): Linear(in_features=1024, out_features=512, bias=True)\n",
       "    (dropout): Dropout(p=0.5, inplace=False)\n",
       "  )\n",
       "  (decoder): Decoder(\n",
       "    (attention): Attention(\n",
       "      (attention): Linear(in_features=1536, out_features=512, bias=True)\n",
       "      (v): Linear(in_features=512, out_features=1, bias=False)\n",
       "    )\n",
       "    (embedding): Embedding(5892, 256)\n",
       "    (rnn): GRU(1280, 512)\n",
       "    (fc): Linear(in_features=1792, out_features=5892, bias=True)\n",
       "    (dropout): Dropout(p=0.5, inplace=False)\n",
       "  )\n",
       ")"
      ]
     },
     "execution_count": 16,
     "metadata": {},
     "output_type": "execute_result"
    }
   ],
   "source": [
    "def init_weights(m):\n",
    "    for name, param in m.named_parameters():\n",
    "        if 'weight' in name:\n",
    "            nn.init.normal_(param.data, mean=0, std=0.01)\n",
    "        else:\n",
    "            nn.init.constant_(param.data, 0)\n",
    "            \n",
    "model.apply(init_weights)"
   ]
  },
  {
   "cell_type": "code",
   "execution_count": 17,
   "id": "f99254c8",
   "metadata": {},
   "outputs": [],
   "source": [
    "optimizer = optim.Adam(model.parameters())"
   ]
  },
  {
   "cell_type": "code",
   "execution_count": 18,
   "id": "009b226b",
   "metadata": {},
   "outputs": [],
   "source": [
    "TRG_PAD_IDX = TRG.vocab.stoi[TRG.pad_token]\n",
    "\n",
    "criterion = nn.CrossEntropyLoss(ignore_index = TRG_PAD_IDX)"
   ]
  },
  {
   "cell_type": "code",
   "execution_count": 19,
   "id": "c613c348",
   "metadata": {},
   "outputs": [],
   "source": [
    "def train(model, iterator, optimizer, criterion, clip):\n",
    "    \n",
    "    model.train()\n",
    "    \n",
    "    epoch_loss = 0\n",
    "    \n",
    "    for i, batch in enumerate(iterator):\n",
    "        \n",
    "        src, src_len = batch.src\n",
    "        trg = batch.trg\n",
    "        \n",
    "        optimizer.zero_grad()\n",
    "        \n",
    "        output = model(src, src_len, trg)\n",
    "        \n",
    "        #trg = [trg len, batch size]\n",
    "        #output = [trg len, batch size, output dim]\n",
    "        \n",
    "        output_dim = output.shape[-1]\n",
    "        \n",
    "        output = output[1:].view(-1, output_dim)\n",
    "        trg = trg[1:].view(-1)\n",
    "        \n",
    "        #trg = [(trg len - 1) * batch size]\n",
    "        #output = [(trg len - 1) * batch size, output dim]\n",
    "        \n",
    "        loss = criterion(output, trg)\n",
    "        \n",
    "        loss.backward()\n",
    "        \n",
    "        torch.nn.utils.clip_grad_norm_(model.parameters(), clip)\n",
    "        \n",
    "        optimizer.step()\n",
    "        \n",
    "        epoch_loss += loss.item()\n",
    "        \n",
    "    return epoch_loss / len(iterator)"
   ]
  },
  {
   "cell_type": "code",
   "execution_count": 20,
   "id": "fcd27d7d",
   "metadata": {},
   "outputs": [],
   "source": [
    "def evaluate(model, iterator, criterion):\n",
    "    \n",
    "    model.eval()\n",
    "    \n",
    "    epoch_loss = 0\n",
    "    \n",
    "    with torch.no_grad():\n",
    "    \n",
    "        for i, batch in enumerate(iterator):\n",
    "\n",
    "            src, src_len = batch.src\n",
    "            trg = batch.trg\n",
    "\n",
    "            output = model(src, src_len, trg, 0) #turn off teacher forcing\n",
    "            \n",
    "            #trg = [trg len, batch size]\n",
    "            #output = [trg len, batch size, output dim]\n",
    "\n",
    "            output_dim = output.shape[-1]\n",
    "            \n",
    "            output = output[1:].view(-1, output_dim)\n",
    "            trg = trg[1:].view(-1)\n",
    "\n",
    "            #trg = [(trg len - 1) * batch size]\n",
    "            #output = [(trg len - 1) * batch size, output dim]\n",
    "\n",
    "            loss = criterion(output, trg)\n",
    "\n",
    "            epoch_loss += loss.item()\n",
    "        \n",
    "    return epoch_loss / len(iterator)"
   ]
  },
  {
   "cell_type": "code",
   "execution_count": 21,
   "id": "65803d27",
   "metadata": {},
   "outputs": [],
   "source": [
    "def epoch_time(start_time, end_time):\n",
    "    elapsed_time = end_time - start_time\n",
    "    elapsed_mins = int(elapsed_time / 60)\n",
    "    elapsed_secs = int(elapsed_time - (elapsed_mins * 60))\n",
    "    return elapsed_mins, elapsed_secs"
   ]
  },
  {
   "cell_type": "code",
   "execution_count": 22,
   "id": "97549ece",
   "metadata": {},
   "outputs": [
    {
     "name": "stdout",
     "output_type": "stream",
     "text": [
      "Epoch: 01 | Time: 2m 25s\n",
      "\tTrain Loss: 5.076 | Train PPL: 160.089\n",
      "\t Val. Loss: 4.885 |  Val. PPL: 132.319\n",
      "Epoch: 02 | Time: 1m 58s\n",
      "\tTrain Loss: 4.159 | Train PPL:  64.019\n",
      "\t Val. Loss: 4.184 |  Val. PPL:  65.617\n",
      "Epoch: 03 | Time: 1m 45s\n",
      "\tTrain Loss: 3.407 | Train PPL:  30.165\n",
      "\t Val. Loss: 3.675 |  Val. PPL:  39.445\n",
      "Epoch: 04 | Time: 1m 37s\n",
      "\tTrain Loss: 2.890 | Train PPL:  17.995\n",
      "\t Val. Loss: 3.427 |  Val. PPL:  30.793\n",
      "Epoch: 05 | Time: 1m 32s\n",
      "\tTrain Loss: 2.514 | Train PPL:  12.360\n",
      "\t Val. Loss: 3.297 |  Val. PPL:  27.034\n",
      "Epoch: 06 | Time: 1m 31s\n",
      "\tTrain Loss: 2.209 | Train PPL:   9.103\n",
      "\t Val. Loss: 3.266 |  Val. PPL:  26.210\n",
      "Epoch: 07 | Time: 1m 41s\n",
      "\tTrain Loss: 1.979 | Train PPL:   7.233\n",
      "\t Val. Loss: 3.214 |  Val. PPL:  24.880\n",
      "Epoch: 08 | Time: 1m 40s\n",
      "\tTrain Loss: 1.776 | Train PPL:   5.906\n",
      "\t Val. Loss: 3.286 |  Val. PPL:  26.736\n",
      "Epoch: 09 | Time: 1m 39s\n",
      "\tTrain Loss: 1.611 | Train PPL:   5.006\n",
      "\t Val. Loss: 3.247 |  Val. PPL:  25.726\n",
      "Epoch: 10 | Time: 1m 35s\n",
      "\tTrain Loss: 1.503 | Train PPL:   4.497\n",
      "\t Val. Loss: 3.282 |  Val. PPL:  26.639\n"
     ]
    }
   ],
   "source": [
    "N_EPOCHS = 10\n",
    "CLIP = 1\n",
    "\n",
    "best_valid_loss = float('inf')\n",
    "\n",
    "for epoch in range(N_EPOCHS):\n",
    "    \n",
    "    start_time = time.time()\n",
    "    \n",
    "    train_loss = train(model, train_iterator, optimizer, criterion, CLIP)\n",
    "    valid_loss = evaluate(model, valid_iterator, criterion)\n",
    "    \n",
    "    end_time = time.time()\n",
    "    \n",
    "    epoch_mins, epoch_secs = epoch_time(start_time, end_time)\n",
    "    \n",
    "    if valid_loss < best_valid_loss:\n",
    "        best_valid_loss = valid_loss\n",
    "        torch.save(model.state_dict(), 'tut4-model.pt')\n",
    "    \n",
    "    print(f'Epoch: {epoch+1:02} | Time: {epoch_mins}m {epoch_secs}s')\n",
    "    print(f'\\tTrain Loss: {train_loss:.3f} | Train PPL: {math.exp(train_loss):7.3f}')\n",
    "    print(f'\\t Val. Loss: {valid_loss:.3f} |  Val. PPL: {math.exp(valid_loss):7.3f}')"
   ]
  },
  {
   "cell_type": "code",
   "execution_count": 23,
   "id": "5d28fe5f",
   "metadata": {},
   "outputs": [
    {
     "name": "stdout",
     "output_type": "stream",
     "text": [
      "| Test Loss: 3.208 | Test PPL:  24.730 |\n"
     ]
    }
   ],
   "source": [
    "model.load_state_dict(torch.load('tut4-model.pt'))\n",
    "\n",
    "test_loss = evaluate(model, test_iterator, criterion)\n",
    "\n",
    "print(f'| Test Loss: {test_loss:.3f} | Test PPL: {math.exp(test_loss):7.3f} |')"
   ]
  },
  {
   "cell_type": "code",
   "execution_count": 32,
   "id": "9ec86f79",
   "metadata": {},
   "outputs": [],
   "source": [
    "def translate(sentence, src_field, trg_field, model, device, max_len=50):\n",
    "    model.eval()\n",
    "    if isinstance(sentence, str):\n",
    "        german_tokenizer = spacy.load('de')\n",
    "        tokens = [token.text.lower() for token in german_tokenizer(sentence)]\n",
    "    else:\n",
    "        tokens = [token.lower() for token in sentence]\n",
    "    \n",
    "    tokens = [src_field.init_token] + tokens + [trg_field.eos_token]\n",
    "    \n",
    "    src_indexes = [src_field.vocab.stoi[token] for token in tokens]\n",
    "    \n",
    "    src_tensor = torch.LongTensor(src_indexes).unsqueeze(1).to(device)\n",
    "    \n",
    "    src_len = torch.LongTensor([len(src_tensor)])\n",
    "    \n",
    "    with torch.no_grad():\n",
    "        encoder_outputs, hidden = model.encoder(src_tensor, src_len)\n",
    "        \n",
    "    mask = model.create_mask(src_tensor)\n",
    "    \n",
    "    trg_indexes = [trg_field.vocab.stoi[trg_field.init_token]]\n",
    "    \n",
    "    attentions = torch.zeros(max_len, 1, len(src_indexes)).to(device)\n",
    "    \n",
    "    for i in range(max_len):\n",
    "        \n",
    "        trg_tensor = torch.LongTensor([trg_indexes[-1]]).to(device)\n",
    "        \n",
    "        with torch.no_grad():\n",
    "            output, hidden,attention = model.decoder(trg_tensor, hidden,encoder_outputs,mask)\n",
    "            \n",
    "        attentions[i] = attention\n",
    "        \n",
    "        predicted_token = output.argmax(1).item()\n",
    "        \n",
    "        trg_indexes.append(predicted_token)\n",
    "        \n",
    "        if predicted_token == trg_field.vocab.stoi[trg_field.eos_token]:\n",
    "            break\n",
    "            \n",
    "    trg_tokens = [trg_field.vocab.itos[i] for i in trg_indexes]\n",
    "    \n",
    "    return trg_tokens[1:], attentions[:len(trg_tokens)-1]"
   ]
  },
  {
   "cell_type": "code",
   "execution_count": 41,
   "id": "6c66e393",
   "metadata": {},
   "outputs": [],
   "source": [
    "import matplotlib.pyplot as plt\n",
    "import matplotlib.ticker as ticker"
   ]
  },
  {
   "cell_type": "code",
   "execution_count": 26,
   "id": "ea1cdf59",
   "metadata": {},
   "outputs": [],
   "source": [
    "def display_attention(sentence, translation, attention):\n",
    "    \n",
    "    fig = plt.figure(figsize=(10,10))\n",
    "    ax = fig.add_subplot(111)\n",
    "    \n",
    "    attention = attention.squeeze(1).cpu().detach().numpy()\n",
    "    \n",
    "    cax = ax.matshow(attention, cmap='bone')\n",
    "   \n",
    "    ax.tick_params(labelsize=15)\n",
    "    \n",
    "    x_ticks = [''] + ['<sos>'] + [t.lower() for t in sentence] + ['<eos>']\n",
    "    y_ticks = [''] + translation\n",
    "     \n",
    "    ax.set_xticklabels(x_ticks, rotation=45)\n",
    "    ax.set_yticklabels(y_ticks)\n",
    "\n",
    "    ax.xaxis.set_major_locator(ticker.MultipleLocator(1))\n",
    "    ax.yaxis.set_major_locator(ticker.MultipleLocator(1))\n",
    "\n",
    "    plt.show()\n",
    "    plt.close()"
   ]
  },
  {
   "cell_type": "code",
   "execution_count": 36,
   "id": "ff46840e",
   "metadata": {},
   "outputs": [
    {
     "name": "stdout",
     "output_type": "stream",
     "text": [
      "src = ['eine', 'frau', 'spielt', 'ein', 'lied', 'auf', 'ihrer', 'geige', '.']\n",
      "trg = ['a', 'female', 'playing', 'a', 'song', 'on', 'her', 'violin', '.']\n"
     ]
    }
   ],
   "source": [
    "example_idx = 14\n",
    "\n",
    "src = vars(valid_data.examples[example_idx])['src']\n",
    "trg = vars(valid_data.examples[example_idx])['trg']\n",
    "\n",
    "print(f'src = {src}')\n",
    "print(f'trg = {trg}')"
   ]
  },
  {
   "cell_type": "code",
   "execution_count": 42,
   "id": "25daa888",
   "metadata": {},
   "outputs": [
    {
     "name": "stdout",
     "output_type": "stream",
     "text": [
      "predicted trg = ['a', 'woman', 'is', 'playing', 'an', 'instrument', 'on', 'her', 'violin', '.', '<sos>']\n"
     ]
    },
    {
     "name": "stderr",
     "output_type": "stream",
     "text": [
      "C:\\Users\\thaku\\AppData\\Local\\Temp\\ipykernel_20564\\4268658779.py:15: UserWarning: FixedFormatter should only be used together with FixedLocator\n",
      "  ax.set_xticklabels(x_ticks, rotation=45)\n",
      "C:\\Users\\thaku\\AppData\\Local\\Temp\\ipykernel_20564\\4268658779.py:16: UserWarning: FixedFormatter should only be used together with FixedLocator\n",
      "  ax.set_yticklabels(y_ticks)\n"
     ]
    },
    {
     "data": {
      "image/png": "[encoded data removed]",
      "text/plain": [
       "<Figure size 1000x1000 with 1 Axes>"
      ]
     },
     "metadata": {},
     "output_type": "display_data"
    }
   ],
   "source": [
    "translation, attention = translate(src, SRC, TRG, model, device)\n",
    "\n",
    "print(f'predicted trg = {translation}')\n",
    "\n",
    "display_attention(src, translation, attention)"
   ]
  }
 ],
 "metadata": {
  "kernelspec": {
   "display_name": "sequence",
   "language": "python",
   "name": "sequence"
  },
  "language_info": {
   "codemirror_mode": {
    "name": "ipython",
    "version": 3
   },
   "file_extension": ".py",
   "mimetype": "text/x-python",
   "name": "python",
   "nbconvert_exporter": "python",
   "pygments_lexer": "ipython3",
   "version": "3.8.0"
  }
 },
 "nbformat": 4,
 "nbformat_minor": 5
}
