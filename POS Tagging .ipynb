{
 "cells": [
  {
   "cell_type": "code",
   "execution_count": 1,
   "id": "13b14173",
   "metadata": {},
   "outputs": [
    {
     "name": "stderr",
     "output_type": "stream",
     "text": [
      "E:\\sequence\\sequence\\lib\\site-packages\\tqdm\\auto.py:21: TqdmWarning: IProgress not found. Please update jupyter and ipywidgets. See https://ipywidgets.readthedocs.io/en/stable/user_install.html\n",
      "  from .autonotebook import tqdm as notebook_tqdm\n"
     ]
    }
   ],
   "source": [
    "import time\n",
    "import random\n",
    "import numpy\n",
    "import spacy\n",
    "import torch\n",
    "import torch.optim as optim\n",
    "from torchtext.legacy import data\n",
    "from torchtext.legacy import datasets\n"
   ]
  },
  {
   "cell_type": "markdown",
   "id": "36cc376c",
   "metadata": {},
   "source": [
    "#### Preparing Data"
   ]
  },
  {
   "cell_type": "code",
   "execution_count": 2,
   "id": "8d9050d0",
   "metadata": {},
   "outputs": [],
   "source": [
    "TEXT= data.Field(lower= True)\n",
    "UD_TAGS = data.Field(unk_token=None)\n",
    "PTB_TAGS = data.Field(unk_token=None)"
   ]
  },
  {
   "cell_type": "code",
   "execution_count": 3,
   "id": "40cdb382",
   "metadata": {},
   "outputs": [],
   "source": [
    "fields = (('text',TEXT),('udtags',UD_TAGS),('ptbtags',PTB_TAGS))"
   ]
  },
  {
   "cell_type": "code",
   "execution_count": 4,
   "id": "3828a48f",
   "metadata": {},
   "outputs": [],
   "source": [
    "train_data, valid_data, test_data = datasets.UDPOS.splits(fields)"
   ]
  },
  {
   "cell_type": "code",
   "execution_count": 5,
   "id": "9833444b",
   "metadata": {},
   "outputs": [
    {
     "name": "stdout",
     "output_type": "stream",
     "text": [
      "Number of training examples: 12543\n",
      "Number of validation examples: 2002\n",
      "Number of testing examples: 2077\n"
     ]
    }
   ],
   "source": [
    "print(f\"Number of training examples: {len(train_data)}\")\n",
    "print(f\"Number of validation examples: {len(valid_data)}\")\n",
    "print(f\"Number of testing examples: {len(test_data)}\")"
   ]
  },
  {
   "cell_type": "code",
   "execution_count": 6,
   "id": "c1221f37",
   "metadata": {},
   "outputs": [
    {
     "name": "stdout",
     "output_type": "stream",
     "text": [
      "{'text': ['[', 'this', 'killing', 'of', 'a', 'respected', 'cleric', 'will', 'be', 'causing', 'us', 'trouble', 'for', 'years', 'to', 'come', '.', ']'], 'udtags': ['PUNCT', 'DET', 'NOUN', 'ADP', 'DET', 'ADJ', 'NOUN', 'AUX', 'AUX', 'VERB', 'PRON', 'NOUN', 'ADP', 'NOUN', 'PART', 'VERB', 'PUNCT', 'PUNCT'], 'ptbtags': ['-LRB-', 'DT', 'NN', 'IN', 'DT', 'JJ', 'NN', 'MD', 'VB', 'VBG', 'PRP', 'NN', 'IN', 'NNS', 'TO', 'VB', '.', '-RRB-']}\n"
     ]
    }
   ],
   "source": [
    "print(vars(train_data.examples[1]))"
   ]
  },
  {
   "cell_type": "markdown",
   "id": "c9257e89",
   "metadata": {},
   "source": [
    "#### Build Vocabulary\n",
    "`unk_init` - It is used to initialize the token embedding which are not in the pre trained embedding vocabulary. By default they are set to 0. So instead of initializing them all to same value, We would initalize them from a normal or gaussian distribution"
   ]
  },
  {
   "cell_type": "code",
   "execution_count": 7,
   "id": "558fbbfd",
   "metadata": {},
   "outputs": [],
   "source": [
    "TEXT.build_vocab(train_data,min_freq=2,vectors = \"glove.6B.100d\", unk_init = torch.Tensor.normal_)\n",
    "UD_TAGS.build_vocab(train_data)\n",
    "PTB_TAGS.build_vocab(train_data)"
   ]
  },
  {
   "cell_type": "code",
   "execution_count": 8,
   "id": "86893491",
   "metadata": {},
   "outputs": [
    {
     "name": "stdout",
     "output_type": "stream",
     "text": [
      "[('the', 9076), ('.', 8640), (',', 7021), ('to', 5137), ('and', 5002), ('a', 3782), ('of', 3622), ('i', 3379), ('in', 3112), ('is', 2239), ('you', 2156), ('that', 2036), ('it', 1850), ('for', 1842), ('-', 1426), ('have', 1359), ('\"', 1296), ('on', 1273), ('was', 1244), ('with', 1216)]\n"
     ]
    }
   ],
   "source": [
    "print(TEXT.vocab.freqs.most_common(20))"
   ]
  },
  {
   "cell_type": "markdown",
   "id": "5148c8a7",
   "metadata": {},
   "source": [
    "#### Creating Iterators"
   ]
  },
  {
   "cell_type": "code",
   "execution_count": 9,
   "id": "ee727f08",
   "metadata": {},
   "outputs": [],
   "source": [
    "\n",
    "BATCH_SIZE = 128\n",
    "\n",
    "device = torch.device('cuda' if torch.cuda.is_available() else 'cpu')\n",
    "\n",
    "train_iterator, valid_iterator, test_iterator = data.BucketIterator.splits(\n",
    "    (train_data, valid_data, test_data), \n",
    "    batch_size = BATCH_SIZE,\n",
    "    device = device)"
   ]
  },
  {
   "cell_type": "code",
   "execution_count": 10,
   "id": "53ca2d3d",
   "metadata": {},
   "outputs": [],
   "source": [
    "import torch.nn as nn"
   ]
  },
  {
   "cell_type": "code",
   "execution_count": 11,
   "id": "f0d9dd09",
   "metadata": {},
   "outputs": [],
   "source": [
    "class LSTMPOSTagger(nn.Module):\n",
    "    def __init__(self, input_dim, emb_dim, hidden_dim, output_dim, n_layers, bidirectional, dropout, pad_idx):\n",
    "        super().__init__()\n",
    "        self.embedding = nn.Embedding(input_dim, emb_dim, padding_idx = pad_idx)\n",
    "        \n",
    "        self.LSTM = nn.LSTM(emb_dim, \n",
    "                            hidden_dim,\n",
    "                            num_layers= n_layers,\n",
    "                            bidirectional=True,\n",
    "                            dropout= dropout if n_layers>1 else 0\n",
    "                           )\n",
    "        self.fc = nn.Linear(hidden_dim*2 if bidirectional else hidden_dim, output_dim)\n",
    "        self.dropout = nn.Dropout(dropout)\n",
    "    \n",
    "    def forward(self, text):\n",
    "        #text = [sent_len, batch_size]\n",
    "        embedded = self.dropout(self.embedding(text))\n",
    "        #embedded = [sent_len, batch_size,emb_dim]\n",
    "        output,(hidden,cell) = self.LSTM(embedded)\n",
    "        #output = [sent_len, batch_size, hid_dim*n_directions]\n",
    "        #hidden = [n_layers*n_directions,batch_size,hid_dim]\n",
    "        pred = self.fc(self.dropout(output))\n",
    "        #pred = [sent_len, batch_size,output_dim]\n",
    "        return pred"
   ]
  },
  {
   "cell_type": "markdown",
   "id": "c9b26bce",
   "metadata": {},
   "source": [
    "#### Train Model"
   ]
  },
  {
   "cell_type": "code",
   "execution_count": 12,
   "id": "e62ddc0e",
   "metadata": {},
   "outputs": [],
   "source": [
    "input_dim = len(TEXT.vocab)\n",
    "embdding_dim = 100\n",
    "hidden_dim = 128\n",
    "output_dim = len(UD_TAGS.vocab)\n",
    "n_layers = 2\n",
    "bidirectional = True\n",
    "dropout = 0.25\n",
    "pad_idx = TEXT.vocab.stoi[TEXT.pad_token]"
   ]
  },
  {
   "cell_type": "code",
   "execution_count": 13,
   "id": "2c5997bb",
   "metadata": {},
   "outputs": [],
   "source": [
    "model = LSTMPOSTagger(input_dim,embdding_dim,hidden_dim,output_dim,n_layers,bidirectional,dropout,pad_idx)"
   ]
  },
  {
   "cell_type": "markdown",
   "id": "bb6ec0d4",
   "metadata": {},
   "source": [
    "#### Weights Initialization"
   ]
  },
  {
   "cell_type": "code",
   "execution_count": 14,
   "id": "1b93f1ce",
   "metadata": {},
   "outputs": [
    {
     "data": {
      "text/plain": [
       "LSTMPOSTagger(\n",
       "  (embedding): Embedding(8866, 100, padding_idx=1)\n",
       "  (LSTM): LSTM(100, 128, num_layers=2, dropout=0.25, bidirectional=True)\n",
       "  (fc): Linear(in_features=256, out_features=18, bias=True)\n",
       "  (dropout): Dropout(p=0.25, inplace=False)\n",
       ")"
      ]
     },
     "execution_count": 14,
     "metadata": {},
     "output_type": "execute_result"
    }
   ],
   "source": [
    "def init_weights(model):\n",
    "    for name, param in model.named_parameters():\n",
    "        nn.init.normal_(param.data,mean=0 , std=0.1)\n",
    "model.apply(init_weights)"
   ]
  },
  {
   "cell_type": "code",
   "execution_count": 15,
   "id": "fc0adce9",
   "metadata": {},
   "outputs": [
    {
     "data": {
      "text/plain": [
       "torch.Size([8866, 100])"
      ]
     },
     "execution_count": 15,
     "metadata": {},
     "output_type": "execute_result"
    }
   ],
   "source": [
    "pretrained_embeddings = TEXT.vocab.vectors\n",
    "pretrained_embeddings.shape"
   ]
  },
  {
   "cell_type": "code",
   "execution_count": 16,
   "id": "6baca1d1",
   "metadata": {},
   "outputs": [
    {
     "data": {
      "text/plain": [
       "tensor([[-0.8229, -0.4773,  0.2685,  ..., -0.0726, -0.7076,  0.3675],\n",
       "        [-1.1936,  0.9956, -0.0168,  ..., -1.7080,  0.3651, -0.4950],\n",
       "        [-0.0382, -0.2449,  0.7281,  ..., -0.1459,  0.8278,  0.2706],\n",
       "        ...,\n",
       "        [ 1.3846, -1.0335,  0.8176,  ..., -0.3827, -0.1766,  0.3171],\n",
       "        [-0.5972,  0.0471, -0.2406,  ..., -0.9446, -0.1126, -0.2260],\n",
       "        [-0.8438,  0.4213,  0.5783,  ...,  2.4652, -0.2974, -0.4256]])"
      ]
     },
     "execution_count": 16,
     "metadata": {},
     "output_type": "execute_result"
    }
   ],
   "source": [
    "model.embedding.weight.data.copy_(pretrained_embeddings)"
   ]
  },
  {
   "cell_type": "code",
   "execution_count": 17,
   "id": "75c08478",
   "metadata": {},
   "outputs": [
    {
     "data": {
      "text/plain": [
       "tensor([[-0.8229, -0.4773,  0.2685,  ..., -0.0726, -0.7076,  0.3675],\n",
       "        [ 0.0000,  0.0000,  0.0000,  ...,  0.0000,  0.0000,  0.0000],\n",
       "        [-0.0382, -0.2449,  0.7281,  ..., -0.1459,  0.8278,  0.2706],\n",
       "        ...,\n",
       "        [ 1.3846, -1.0335,  0.8176,  ..., -0.3827, -0.1766,  0.3171],\n",
       "        [-0.5972,  0.0471, -0.2406,  ..., -0.9446, -0.1126, -0.2260],\n",
       "        [-0.8438,  0.4213,  0.5783,  ...,  2.4652, -0.2974, -0.4256]])"
      ]
     },
     "execution_count": 17,
     "metadata": {},
     "output_type": "execute_result"
    }
   ],
   "source": [
    "model.embedding.weight.data[pad_idx] = torch.zeros(embdding_dim)\n",
    "model.embedding.weight.data"
   ]
  },
  {
   "cell_type": "markdown",
   "id": "d8c29f1b",
   "metadata": {},
   "source": [
    "#### Define our optimizer"
   ]
  },
  {
   "cell_type": "code",
   "execution_count": 18,
   "id": "1e51bedc",
   "metadata": {},
   "outputs": [],
   "source": [
    "optimizer = optim.Adam(model.parameters())"
   ]
  },
  {
   "cell_type": "code",
   "execution_count": 19,
   "id": "962b7c5e",
   "metadata": {},
   "outputs": [],
   "source": [
    "TAG_PAD_IDX = UD_TAGS.vocab.stoi[UD_TAGS.pad_token]\n",
    "criterion = nn.CrossEntropyLoss(ignore_index=TAG_PAD_IDX)"
   ]
  },
  {
   "cell_type": "code",
   "execution_count": 20,
   "id": "cd140f50",
   "metadata": {},
   "outputs": [],
   "source": [
    "model = model.to(device)\n",
    "criterion = criterion.to(device)"
   ]
  },
  {
   "cell_type": "code",
   "execution_count": 22,
   "id": "0e2b9a53",
   "metadata": {},
   "outputs": [],
   "source": [
    "def accuracy(preds,y,tag_pad_idx):\n",
    "    max_prob = preds.argmax(dim=1,keepdim=True)\n",
    "    non_pad_elements= (y!=tag_pad_idx).nonzero()\n",
    "    correct = max_prob[non_pad_elements].squeeze(1).eq(y[non_pad_elements])\n",
    "    return correct.sum()/y[non_pad_elements].shape[0]"
   ]
  },
  {
   "cell_type": "code",
   "execution_count": 23,
   "id": "3a2bd502",
   "metadata": {},
   "outputs": [],
   "source": [
    "def train(model, iterator, optimizer, criterion, tag_pad_idx):\n",
    "    epoch_loss= 0\n",
    "    epoch_accuracy = 0\n",
    "    model.train()\n",
    "    for batch in iterator:\n",
    "        #text=[seq_len,batch_size]\n",
    "        text = batch.text\n",
    "        tags = batch.udtags\n",
    "        predictions = model(text)\n",
    "        #preds =[seq_len,batch_size,output_dim]\n",
    "        #tags = [sent_len,batch_size]\n",
    "        predictions = predictions.view(-1, predictions.shape[-1])\n",
    "        tags = tags.view(-1)\n",
    "        #Pytorch loss function can not handle 3-d preds, hence we need to reshape our preds with help of view()\n",
    "        #preds =[seq_len*batch_size,output_dim]\n",
    "        #tags = [sent_len*batch_size]\n",
    "        loss = criterion(predictions,tags)\n",
    "        acc = accuracy(predictions,tags,tag_pad_idx)\n",
    "        loss.backward()\n",
    "        optimizer.step()\n",
    "        epoch_loss += loss.item()\n",
    "        epoch_accuracy += acc.item()\n",
    "    \n",
    "    return epoch_loss/len(iterator), epoch_accuracy/len(iterator)"
   ]
  },
  {
   "cell_type": "markdown",
   "id": "275ee66f",
   "metadata": {},
   "source": [
    "#### Inside evaluate() we will not update our parameters"
   ]
  },
  {
   "cell_type": "code",
   "execution_count": 28,
   "id": "b835f2e7",
   "metadata": {},
   "outputs": [],
   "source": [
    "def evaluate(model, iterator, criterion, tag_pad_idx):\n",
    "    epoch_loss = 0\n",
    "    epoch_accuracy = 0\n",
    "    model.eval()\n",
    "    with torch.no_grad():\n",
    "        \n",
    "        for batch in iterator:\n",
    "            # text = [sent_len, batch_size]\n",
    "            text = batch.text\n",
    "            tags = batch.udtags\n",
    "            \n",
    "            predictions = model(text)\n",
    "            #precdictions = [sent_len, batch_size, output_dim]\n",
    "            #tags = [sent_len,batch_size]\n",
    "            predictions = predictions.view(-1, predictions.shape[-1])\n",
    "            tags = tags.view(-1)\n",
    "            #precdictions = [sent_len* batch_size, output_dim]\n",
    "            #tags = [sent_len*batch_size]\n",
    "            loss = criterion(predictions,tags)\n",
    "            acc = accuracy(predictions,tags,tag_pad_idx)\n",
    "            epoch_loss += loss.item()\n",
    "            epoch_accuracy += acc.item()\n",
    "            \n",
    "    return epoch_loss / len(iterator), epoch_accuracy / len(iterator)"
   ]
  },
  {
   "cell_type": "code",
   "execution_count": 26,
   "id": "82e61fe5",
   "metadata": {},
   "outputs": [],
   "source": [
    "def epoch_time(start_time, end_time):\n",
    "    elapsed_time = end_time - start_time\n",
    "    elapsed_mins = int(elapsed_time / 60)\n",
    "    elapsed_secs = int(elapsed_time - (elapsed_mins * 60))\n",
    "    return elapsed_mins, elapsed_secs"
   ]
  },
  {
   "cell_type": "code",
   "execution_count": 30,
   "id": "2ffb9ee6",
   "metadata": {},
   "outputs": [
    {
     "name": "stdout",
     "output_type": "stream",
     "text": [
      "Epoch: 01 | Epoch Time: 0m 4s\n",
      "\tTrain Loss: 0.595 | Train Acc: 83.29%\n",
      "\t Val. Loss: 0.744 |  Val. Acc: 83.33%\n",
      "Epoch: 02 | Epoch Time: 0m 4s\n",
      "\tTrain Loss: 0.457 | Train Acc: 88.60%\n",
      "\t Val. Loss: 0.654 |  Val. Acc: 82.42%\n",
      "Epoch: 03 | Epoch Time: 0m 4s\n",
      "\tTrain Loss: 0.425 | Train Acc: 88.49%\n",
      "\t Val. Loss: 0.650 |  Val. Acc: 82.51%\n",
      "Epoch: 04 | Epoch Time: 0m 4s\n",
      "\tTrain Loss: 0.396 | Train Acc: 89.61%\n",
      "\t Val. Loss: 0.655 |  Val. Acc: 84.79%\n",
      "Epoch: 05 | Epoch Time: 0m 4s\n",
      "\tTrain Loss: 0.379 | Train Acc: 89.58%\n",
      "\t Val. Loss: 0.617 |  Val. Acc: 84.56%\n",
      "Epoch: 06 | Epoch Time: 0m 4s\n",
      "\tTrain Loss: 0.364 | Train Acc: 90.10%\n",
      "\t Val. Loss: 0.569 |  Val. Acc: 85.61%\n",
      "Epoch: 07 | Epoch Time: 0m 4s\n",
      "\tTrain Loss: 0.353 | Train Acc: 90.11%\n",
      "\t Val. Loss: 0.580 |  Val. Acc: 83.78%\n",
      "Epoch: 08 | Epoch Time: 0m 4s\n",
      "\tTrain Loss: 0.361 | Train Acc: 89.93%\n",
      "\t Val. Loss: 0.606 |  Val. Acc: 83.86%\n",
      "Epoch: 09 | Epoch Time: 0m 4s\n",
      "\tTrain Loss: 0.362 | Train Acc: 90.35%\n",
      "\t Val. Loss: 0.576 |  Val. Acc: 85.55%\n",
      "Epoch: 10 | Epoch Time: 0m 4s\n",
      "\tTrain Loss: 0.396 | Train Acc: 89.57%\n",
      "\t Val. Loss: 0.609 |  Val. Acc: 83.08%\n"
     ]
    }
   ],
   "source": [
    "N_EPOCHS = 10\n",
    "\n",
    "best_valid_loss = float('inf')\n",
    "\n",
    "for epoch in range(N_EPOCHS):\n",
    "\n",
    "    start_time = time.time()\n",
    "    \n",
    "    train_loss, train_acc = train(model, train_iterator, optimizer, criterion, TAG_PAD_IDX)\n",
    "    valid_loss, valid_acc = evaluate(model, valid_iterator, criterion, TAG_PAD_IDX)\n",
    "    \n",
    "    end_time = time.time()\n",
    "\n",
    "    epoch_mins, epoch_secs = epoch_time(start_time, end_time)\n",
    "    \n",
    "    if valid_loss < best_valid_loss:\n",
    "        best_valid_loss = valid_loss\n",
    "        torch.save(model.state_dict(), 'tut1-model.pt')\n",
    "    \n",
    "    print(f'Epoch: {epoch+1:02} | Epoch Time: {epoch_mins}m {epoch_secs}s')\n",
    "    print(f'\\tTrain Loss: {train_loss:.3f} | Train Acc: {train_acc*100:.2f}%')\n",
    "    print(f'\\t Val. Loss: {valid_loss:.3f} |  Val. Acc: {valid_acc*100:.2f}%')"
   ]
  },
  {
   "cell_type": "code",
   "execution_count": 31,
   "id": "cded80b1",
   "metadata": {},
   "outputs": [
    {
     "name": "stdout",
     "output_type": "stream",
     "text": [
      "Test Loss: 0.590 |  Test Acc: 85.94%\n"
     ]
    }
   ],
   "source": [
    "model.load_state_dict(torch.load('tut1-model.pt'))\n",
    "\n",
    "test_loss, test_acc = evaluate(model, test_iterator, criterion, TAG_PAD_IDX)\n",
    "\n",
    "print(f'Test Loss: {test_loss:.3f} |  Test Acc: {test_acc*100:.2f}%')"
   ]
  },
  {
   "cell_type": "markdown",
   "id": "b55ee964",
   "metadata": {},
   "source": [
    "#### Inference"
   ]
  },
  {
   "cell_type": "code",
   "execution_count": 90,
   "id": "a86c6b09",
   "metadata": {},
   "outputs": [],
   "source": [
    "def tag_sentence(model,device,sent,text_field,tag_field):\n",
    "    model.eval()\n",
    "    if isinstance(sent,str):\n",
    "        nlp = spacy.load('en_core_web_sm')\n",
    "        tokens = [token.text for token in nlp(sent)]\n",
    "    else:\n",
    "        tokens = [token.text for token in sent]\n",
    "        \n",
    "    if text_field.lower:\n",
    "        tokens = [token.lower() for token in tokens]\n",
    "        \n",
    "    numericalized = [text_field.vocab.stoi[t] for t in tokens]\n",
    "    unk_index =text_field.vocab.stoi[text_field.unk_token]\n",
    "    unkowns = [t for t,n in zip(tokens,numericalized) if n==unk_index]\n",
    "    # create token tensor to fed into model\n",
    "    token_tensor = torch.LongTensor(numericalized)\n",
    "    print(\"token_tensor\",token_tensor)\n",
    "    print(\"shape\",token_tensor.shape)\n",
    "    token_tensor = token_tensor.unsqueeze(-1).to(device)\n",
    "    print(\"After token_tensor\",token_tensor)\n",
    "    print(\"shape\",token_tensor.shape)\n",
    "    predictions = model(token_tensor)\n",
    "    top_predictions = predictions.argmax(-1)\n",
    "    print(top_predictions)\n",
    "    predicted_tags = [tag_field.vocab.itos[t.item()] for t in top_predictions]\n",
    "    print(predicted_tags)\n",
    "    return tokens,predicted_tags,unkowns"
   ]
  },
  {
   "cell_type": "code",
   "execution_count": 91,
   "id": "ca7d1e2a",
   "metadata": {},
   "outputs": [
    {
     "name": "stdout",
     "output_type": "stream",
     "text": [
      "token_tensor tensor([  9,  77,  10, 225,   8,   0])\n",
      "shape torch.Size([6])\n",
      "After token_tensor tensor([[  9],\n",
      "        [ 77],\n",
      "        [ 10],\n",
      "        [225],\n",
      "        [  8],\n",
      "        [  0]], device='cuda:0')\n",
      "shape torch.Size([6, 1])\n",
      "tensor([[4],\n",
      "        [9],\n",
      "        [5],\n",
      "        [1],\n",
      "        [5],\n",
      "        [7]], device='cuda:0')\n",
      "['PRON', 'AUX', 'ADP', 'NOUN', 'ADP', 'PROPN']\n"
     ]
    }
   ],
   "source": [
    "ex = \"I am in love of NLP\"\n",
    "tokens,predicted_tags,unkowns = tag_sentence(model,device,ex, TEXT,UD_TAGS)"
   ]
  },
  {
   "cell_type": "code",
   "execution_count": 93,
   "id": "12eae510",
   "metadata": {},
   "outputs": [
    {
     "data": {
      "text/plain": [
       "['PRON', 'AUX', 'ADP', 'NOUN', 'ADP', 'PROPN']"
      ]
     },
     "execution_count": 93,
     "metadata": {},
     "output_type": "execute_result"
    }
   ],
   "source": [
    "predicted_tags"
   ]
  },
  {
   "cell_type": "code",
   "execution_count": null,
   "id": "0604632b",
   "metadata": {},
   "outputs": [],
   "source": []
  }
 ],
 "metadata": {
  "kernelspec": {
   "display_name": "sequence",
   "language": "python",
   "name": "sequence"
  },
  "language_info": {
   "codemirror_mode": {
    "name": "ipython",
    "version": 3
   },
   "file_extension": ".py",
   "mimetype": "text/x-python",
   "name": "python",
   "nbconvert_exporter": "python",
   "pygments_lexer": "ipython3",
   "version": "3.8.0"
  }
 },
 "nbformat": 4,
 "nbformat_minor": 5
}
