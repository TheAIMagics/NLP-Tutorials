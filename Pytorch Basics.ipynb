{
 "cells": [
  {
   "cell_type": "code",
   "execution_count": 2,
   "id": "a52e65eb",
   "metadata": {},
   "outputs": [
    {
     "name": "stdout",
     "output_type": "stream",
     "text": [
      "tensor([[[11, 28, 30, 56],\n",
      "         [23, 23, 98, 55],\n",
      "         [19,  1, 85, 94]],\n",
      "\n",
      "        [[56, 79, 49, 75],\n",
      "         [66, 12,  5, 89],\n",
      "         [10, 90, 64,  0]]], dtype=torch.int32)\n",
      "torch.Size([2, 3, 4])\n"
     ]
    },
    {
     "name": "stderr",
     "output_type": "stream",
     "text": [
      "E:\\sequence\\sequence\\lib\\site-packages\\tqdm\\auto.py:21: TqdmWarning: IProgress not found. Please update jupyter and ipywidgets. See https://ipywidgets.readthedocs.io/en/stable/user_install.html\n",
      "  from .autonotebook import tqdm as notebook_tqdm\n"
     ]
    }
   ],
   "source": [
    "import torch\n",
    "x= (torch.rand(2,3,4)*100).int()\n",
    "print(x)\n",
    "print(x.shape)"
   ]
  },
  {
   "cell_type": "code",
   "execution_count": 3,
   "id": "bbc03677",
   "metadata": {},
   "outputs": [
    {
     "name": "stdout",
     "output_type": "stream",
     "text": [
      "tensor([[[42, 44, 24, 64],\n",
      "         [63, 72, 99, 48],\n",
      "         [78, 72, 19, 63]],\n",
      "\n",
      "        [[84, 91,  8, 19],\n",
      "         [57, 80, 30, 11],\n",
      "         [47, 56, 18, 73]]], dtype=torch.int32)\n",
      "torch.Size([2, 3, 4])\n"
     ]
    }
   ],
   "source": [
    "y= (torch.rand(2,3,4)*100).int()\n",
    "print(y)\n",
    "print(y.shape)"
   ]
  },
  {
   "cell_type": "code",
   "execution_count": 6,
   "id": "081a0435",
   "metadata": {},
   "outputs": [],
   "source": [
    "z_0 = torch.cat((x,y), dim=0)"
   ]
  },
  {
   "cell_type": "code",
   "execution_count": 7,
   "id": "3e87e22c",
   "metadata": {
    "scrolled": false
   },
   "outputs": [
    {
     "name": "stdout",
     "output_type": "stream",
     "text": [
      "tensor([[[11, 28, 30, 56],\n",
      "         [23, 23, 98, 55],\n",
      "         [19,  1, 85, 94]],\n",
      "\n",
      "        [[56, 79, 49, 75],\n",
      "         [66, 12,  5, 89],\n",
      "         [10, 90, 64,  0]],\n",
      "\n",
      "        [[42, 44, 24, 64],\n",
      "         [63, 72, 99, 48],\n",
      "         [78, 72, 19, 63]],\n",
      "\n",
      "        [[84, 91,  8, 19],\n",
      "         [57, 80, 30, 11],\n",
      "         [47, 56, 18, 73]]], dtype=torch.int32)\n"
     ]
    }
   ],
   "source": [
    "print(z_0)"
   ]
  },
  {
   "cell_type": "code",
   "execution_count": 10,
   "id": "f65d5efc",
   "metadata": {},
   "outputs": [
    {
     "name": "stdout",
     "output_type": "stream",
     "text": [
      "tensor([[[11, 28, 30, 56],\n",
      "         [23, 23, 98, 55],\n",
      "         [19,  1, 85, 94],\n",
      "         [42, 44, 24, 64],\n",
      "         [63, 72, 99, 48],\n",
      "         [78, 72, 19, 63]],\n",
      "\n",
      "        [[56, 79, 49, 75],\n",
      "         [66, 12,  5, 89],\n",
      "         [10, 90, 64,  0],\n",
      "         [84, 91,  8, 19],\n",
      "         [57, 80, 30, 11],\n",
      "         [47, 56, 18, 73]]], dtype=torch.int32)\n"
     ]
    }
   ],
   "source": [
    "z_1 = torch.cat((x,y), dim=1)\n",
    "print(z_1)"
   ]
  },
  {
   "cell_type": "code",
   "execution_count": 12,
   "id": "b8c852f3",
   "metadata": {},
   "outputs": [
    {
     "name": "stdout",
     "output_type": "stream",
     "text": [
      "tensor([[[11, 28, 30, 56, 42, 44, 24, 64],\n",
      "         [23, 23, 98, 55, 63, 72, 99, 48],\n",
      "         [19,  1, 85, 94, 78, 72, 19, 63]],\n",
      "\n",
      "        [[56, 79, 49, 75, 84, 91,  8, 19],\n",
      "         [66, 12,  5, 89, 57, 80, 30, 11],\n",
      "         [10, 90, 64,  0, 47, 56, 18, 73]]], dtype=torch.int32)\n"
     ]
    }
   ],
   "source": [
    "z_2 = torch.cat((x,y), dim=2)\n",
    "print(z_2)"
   ]
  },
  {
   "cell_type": "code",
   "execution_count": null,
   "id": "5d5d461f",
   "metadata": {},
   "outputs": [],
   "source": []
  }
 ],
 "metadata": {
  "kernelspec": {
   "display_name": "sequence",
   "language": "python",
   "name": "sequence"
  },
  "language_info": {
   "codemirror_mode": {
    "name": "ipython",
    "version": 3
   },
   "file_extension": ".py",
   "mimetype": "text/x-python",
   "name": "python",
   "nbconvert_exporter": "python",
   "pygments_lexer": "ipython3",
   "version": "3.8.0"
  }
 },
 "nbformat": 4,
 "nbformat_minor": 5
}
